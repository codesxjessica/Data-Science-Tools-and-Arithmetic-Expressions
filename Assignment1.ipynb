{
  "metadata": {
    "language_info": {
      "codemirror_mode": {
        "name": "python",
        "version": 3
      },
      "file_extension": ".py",
      "mimetype": "text/x-python",
      "name": "python",
      "nbconvert_exporter": "python",
      "pygments_lexer": "ipython3",
      "version": "3.8"
    },
    "kernelspec": {
      "name": "python",
      "display_name": "Python (Pyodide)",
      "language": "python"
    }
  },
  "nbformat_minor": 4,
  "nbformat": 4,
  "cells": [
    {
      "cell_type": "markdown",
      "source": "Title: Data Science tools and arithmetic expressions",
      "metadata": {}
    },
    {
      "cell_type": "markdown",
      "source": "Introduction: \nData science is a multidisciplinary field that \ninvolves extracting insights and knowledge from data. \nIt has become increasingly popular over the years,\nand as a result, many programming languages and libraries \nhave been developed to aid in data analysis, manipulation, \nand visualization. In this notebook, we will explore some of \nthe most commonly used data science tools and libraries, \nand also cover some basic arithmetic expressions.\n\n",
      "metadata": {}
    },
    {
      "cell_type": "markdown",
      "source": "Some of the most popular programming languages used in data science include:\n\n-Python\n-R\n-SQL\n-MATLAB\n-Java\n-Scala",
      "metadata": {}
    },
    {
      "cell_type": "markdown",
      "source": "There are several libraries that are commonly used in data science, some of which include:\n\nNumPy\nPandas\nMatplotlib\nSeaborn\nScikit-learn\nTensorFlow",
      "metadata": {}
    },
    {
      "cell_type": "markdown",
      "source": "Jupyter Notebook -> An open-source web application that allows you to create and share documents containing live code, equations, visualizations, and narrative text.\n\nSpyder -> An integrated development environment (IDE) for data science programming in Python.\n\nRStudio -> An IDE for R programming language.\n\nTableau -> A data visualization software that allows you to connect, visualize, and share data.\n\nKNIME ->An open-source data analytics platform that allows you to create data workflows.",
      "metadata": {}
    },
    {
      "cell_type": "markdown",
      "source": "Arithmetic expressions are mathematical expressions that involve \nbasic operations such as addition, subtraction,multiplication, and division.",
      "metadata": {}
    },
    {
      "cell_type": "code",
      "source": "# Multiplication and addition\na = 3\nb = 5\nc = a * b\nd = a + b\nprint(\"Multiplication Result:\", c)\nprint(\"Addition Result:\", d)",
      "metadata": {
        "trusted": true
      },
      "execution_count": 3,
      "outputs": [
        {
          "name": "stdout",
          "text": "Multiplication Result: 15\nAddition Result: 8\n",
          "output_type": "stream"
        }
      ]
    },
    {
      "cell_type": "code",
      "source": "# Minutes to Hours Conversion Example\ndef convert_minutes_to_hours(minutes):\n    hours = minutes / 60\n    return hours\n\nprint(convert_minutes_to_hours(120))",
      "metadata": {
        "trusted": true
      },
      "execution_count": 5,
      "outputs": [
        {
          "name": "stdout",
          "text": "2.0\n",
          "output_type": "stream"
        }
      ]
    },
    {
      "cell_type": "markdown",
      "source": "Objectives: \n\n1.To introduce common data science languages and libraries.\n\n2.To provide a table of commonly used data science tools.\n\n3.To provide examples of arithmetic expressions using Python.\n\n4.To demonstrate how to convert minutes to hours using Python.",
      "metadata": {}
    },
    {
      "cell_type": "markdown",
      "source": "Author's Name: Xhesika Feto",
      "metadata": {}
    },
    {
      "cell_type": "code",
      "source": "",
      "metadata": {},
      "execution_count": null,
      "outputs": []
    }
  ]
}